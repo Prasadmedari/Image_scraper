{
 "cells": [
  {
   "cell_type": "code",
   "execution_count": 47,
   "id": "038bfe40",
   "metadata": {},
   "outputs": [],
   "source": [
    "import requests\n",
    "import logging\n",
    "import os\n",
    "from bs4 import BeautifulSoup\n",
    "from urllib.request import urlopen\n"
   ]
  },
  {
   "cell_type": "code",
   "execution_count": 48,
   "id": "6274a825-8089-4659-a868-1a9879c8cf9a",
   "metadata": {},
   "outputs": [
    {
     "data": {
      "text/plain": [
       "'C:\\\\Users\\\\Shanvisri\\\\Prasad Data Science'"
      ]
     },
     "execution_count": 48,
     "metadata": {},
     "output_type": "execute_result"
    }
   ],
   "source": [
    "os.getcwd()"
   ]
  },
  {
   "cell_type": "code",
   "execution_count": 49,
   "id": "a4a8b42f",
   "metadata": {},
   "outputs": [],
   "source": [
    "save_dir=\"chandrayaan 3/\"\n",
    "if not os.path.exists(save_dir):\n",
    "    os.makedirs(save_dir)"
   ]
  },
  {
   "cell_type": "code",
   "execution_count": 50,
   "id": "9e93c0fd",
   "metadata": {},
   "outputs": [],
   "source": [
    "query=\"Virat\"\n",
    "#url=https://www.google.com/search?sxsrf=AB5stBjn-02DtoMpQvhCT2jh3iuDyVPqUA:1690690959776&q=chandrayaan+3&tbm=isch&source=lnms&sa=X&ved=2ahUKEwiu3tPQyrWAAxUzS2wGHRdyBLkQ0pQJegQIDRAB&biw=1440&bih=775&dpr=2"
   ]
  },
  {
   "cell_type": "code",
   "execution_count": 51,
   "id": "4a661fdd-d9eb-4dc5-bb7a-0c0b73b0309d",
   "metadata": {},
   "outputs": [],
   "source": [
    "response=requests.get(f\"https://www.google.com/search?sxsrf=AB5stBjn-02DtoMpQvhCT2jh3iuDyVPqUA:1690690959776&q=chandrayaan+3&tbm=isch&source=lnms&sa=X&ved=2ahUKEwiu3tPQyrWAAxUzS2wGHRdyBLkQ0pQJegQIDRAB&biw=1440&bih=775&dpr=2\")"
   ]
  },
  {
   "cell_type": "code",
   "execution_count": 52,
   "id": "9e016108-ced8-4c9f-abd1-fe28a9b03711",
   "metadata": {},
   "outputs": [
    {
     "data": {
      "text/plain": [
       "<Response [200]>"
      ]
     },
     "execution_count": 52,
     "metadata": {},
     "output_type": "execute_result"
    }
   ],
   "source": [
    "response"
   ]
  },
  {
   "cell_type": "code",
   "execution_count": 53,
   "id": "00e4dc92-14b9-4762-ac24-fbd6c10285dd",
   "metadata": {},
   "outputs": [],
   "source": [
    "soup=BeautifulSoup(response.content,\"html.parser\")"
   ]
  },
  {
   "cell_type": "code",
   "execution_count": 54,
   "id": "6bff7cc9-517c-4ce7-a125-b68771d4399c",
   "metadata": {},
   "outputs": [
    {
     "data": {
      "text/plain": [
       "<!DOCTYPE html PUBLIC \"-//WAPFORUM//DTD XHTML Mobile 1.0//EN\" \"http://www.wapforum.org/DTD/xhtml-mobile10.dtd\">\n",
       "<html lang=\"en-IN\" xmlns=\"http://www.w3.org/1999/xhtml\"><head><meta content=\"application/xhtml+xml; charset=utf-8\" http-equiv=\"Content-Type\"/><meta content=\"no-cache\" name=\"Cache-Control\"/><title>chandrayaan 3 - Google Search</title><style>a{text-decoration:none;color:inherit}a:hover{text-decoration:underline}a img{border:0}body{font-family:arial,sans-serif;padding:8px;margin:0 auto;max-width:700px;min-width:240px;}.FbhRzb{border-left:thin solid #dadce0;border-right:thin solid #dadce0;border-top:thin solid #dadce0;height:40px;overflow:hidden}.n692Zd{margin-bottom:10px}.cvifge{height:40px;border-spacing:0}.QvGUP{height:40px;padding:0 8px 0 8px;vertical-align:top}.O4cRJf{height:40px;width:100%;padding:0;padding-right:16px}.O1ePr{height:40px;padding:0;vertical-align:top}.kgJEQe{height:36px;width:98px;vertical-align:top;margin-top:4px}.lXLRf{vertical-align:top}.MhzMZd{border:0;vertical-align:middle;font-size:14px;height:40px;padding:0;width:100%;padding-left:16px}.xB0fq{height:40px;border:none;font-size:14px;background-color:#1a73e8;color:#fff;padding:0 16px;margin:0;vertical-align:top;cursor:pointer}.xB0fq:focus{border:1px solid #1a73e8}.M7pB2{border:thin solid #dadce0;margin:0 0 3px 0;font-size:13px;font-weight:500;height:40px}.euZec{width:100%;height:40px;text-align:center;border-spacing:0}table.euZec td{padding:0;width:25%}.QIqI7{display:inline-block;padding-top:4px;font-weight:bold;color:#4285f4}.EY24We{border-bottom:2px solid #4285f4}.CsQyDc{display:inline-block;color:#70757a}.TuS8Ad{font-size:14px}.HddGcc{padding:8px;color:#70757a}.dzp8ae{font-weight:bold;color:#3c4043}.rEM8G{color:#70757a}.bookcf{table-layout:fixed;width:100%;border-spacing:0}.InWNIe{text-align:center}.uZgmoc{border:thin solid #dadce0;color:#70757a;font-size:14px;text-align:center;table-layout:fixed;width:100%}.frGj1b{display:block;padding:12px 0 12px 0;width:100%}.BnJWBc{text-align:center;padding:6px 0 13px 0;height:35px}.e3goi{vertical-align:top;padding:0;height:180px}.GpQGbf{margin:auto;border-collapse:collapse;border-spacing:0;width:100%}</style></head><body><style>.X6ZCif{color:#202124;font-size:11px;line-height:16px;display:inline-block;padding-top:2px;overflow:hidden;padding-bottom:4px;width:100%}.TwVfHd{border-radius:16px;border:thin solid #dadce0;display:inline-block;padding:8px 8px;margin-right:8px;margin-bottom:4px}.yekiAe{background-color:#dadce0}.mnTahd{width:100%}.ezO2md{border:thin solid #dadce0;padding:12px 16px 12px 16px;margin-bottom:10px;font-family:arial,sans-serif}.lIMUZd{font-family:arial,sans-serif}.IkMU6e{border-spacing:0}.SjCsie{width:100%}.EnarA{text-align:center}.NZWO1b{width:162px;height:140px;line-height:140px;overflow:'hidden';text-align:center}.yWs4tf{text-align:center;margin:auto;vertical-align:middle;max-width:162px;max-height:140px}.jB2rPd{padding-top:2px;padding-bottom:8px;}.fYyStc{word-break:break-word}.ynsChf{display:block;white-space:nowrap;overflow:hidden;text-overflow:ellipsis}.Fj3V3b{color:#1967d2;font-size:14px;line-height:20px}.FrIlee{color:#202124;font-size:11px;line-height:16px}.F9iS2e{color:#70757a;font-size:11px;line-height:16px}.WMQ2Le{color:#70757a;font-size:12px;line-height:16px}.x3G5ab{color:#202124;font-size:12px;line-height:16px}.fuLhoc{color:#1967d2;font-size:16px;line-height:20px}.epoveb{font-size:24px;line-height:28px;font-weight:400;color:#202124}.dXDvrc{color:#0d652d;font-size:14px;line-height:20px;word-wrap:break-word}.dloBPe{font-weight:bold}.YVIcad{color:#70757a}.JkVVdd{color:#ea4335}.oXZRFd{color:#ea4335}.MQHtg{color:#fbbc04}.pyMRrb{color:#1e8e3e}.EtTZid{color:#1e8e3e}.M3vVJe{color:#1967d2}.qXLe6d{display:block}.NHQNef{font-style:italic}.Cb8Z7c{white-space:pre}a.ZWRArf{text-decoration:none}a .CVA68e:hover{text-decoration:underline}</style><div class=\"n692Zd\"><div class=\"BnJWBc\"><a class=\"lXLRf\" href=\"/?sa=X&amp;biw=1440&amp;bih=775&amp;output=images&amp;ie=UTF-8&amp;tbm=isch&amp;ved=0ahUKEwik_dK507WAAxWg3jgGHYZ2BysQPAgC\"><img alt=\"Google\" class=\"kgJEQe\" src=\"/images/branding/searchlogo/1x/googlelogo_desk_heirloom_color_150x55dp.gif\"/></a></div><div class=\"FbhRzb\"><form action=\"/search\"><input name=\"biw\" type=\"hidden\" value=\"1440\"/><input name=\"bih\" type=\"hidden\" value=\"775\"/><input name=\"ie\" type=\"hidden\" value=\"ISO-8859-1\"/><input name=\"tbm\" type=\"hidden\" value=\"isch\"/><input name=\"oq\" type=\"hidden\"/><input name=\"aqs\" type=\"hidden\"/><table class=\"cvifge\"><tr><td class=\"O4cRJf\"><input class=\"MhzMZd\" name=\"q\" type=\"text\" value=\"chandrayaan 3\"/></td><td class=\"O1ePr\"><input class=\"xB0fq\" type=\"submit\" value=\"Search\"/></td></tr></table></form></div><div class=\"M7pB2\"><table class=\"euZec\"><tbody><tr><td><a class=\"CsQyDc\" href=\"/search?q=chandrayaan+3&amp;biw=1440&amp;bih=775&amp;ie=UTF-8&amp;source=lnms&amp;sa=X&amp;ved=0ahUKEwik_dK507WAAxWg3jgGHYZ2BysQ_AUIBCgA\">ALL</a></td><td><a class=\"CsQyDc\" href=\"/search?q=chandrayaan+3&amp;biw=1440&amp;bih=775&amp;ie=UTF-8&amp;tbm=nws&amp;source=lnms&amp;sa=X&amp;ved=0ahUKEwik_dK507WAAxWg3jgGHYZ2BysQ_AUIBSgB\">NEWS</a></td><td class=\"EY24We\"><span class=\"QIqI7\">IMAGES</span></td><td><a class=\"CsQyDc\" href=\"/search?q=chandrayaan+3&amp;biw=1440&amp;bih=775&amp;ie=UTF-8&amp;tbm=vid&amp;source=lnms&amp;sa=X&amp;ved=0ahUKEwik_dK507WAAxWg3jgGHYZ2BysQ_AUIBygD\">VIDEOS</a></td></tr></tbody></table></div></div><div class=\"X6ZCif\"><a class=\"TwVfHd\" href=\"/search?biw=1440&amp;bih=775&amp;ie=UTF-8&amp;tbm=isch&amp;q=chandrayaan+3&amp;chips=q:chandrayaan+3,g_1:satellite&amp;sa=X&amp;ved=0ahUKEwik_dK507WAAxWg3jgGHYZ2BysQ4lYICygA\">satellite</a><a class=\"TwVfHd\" href=\"/search?biw=1440&amp;bih=775&amp;ie=UTF-8&amp;tbm=isch&amp;q=chandrayaan+3&amp;chips=q:chandrayaan+3,g_1:rocket&amp;sa=X&amp;ved=0ahUKEwik_dK507WAAxWg3jgGHYZ2BysQ4lYIDCgB\">rocket</a><a class=\"TwVfHd\" href=\"/search?biw=1440&amp;bih=775&amp;ie=UTF-8&amp;tbm=isch&amp;q=chandrayaan+3&amp;chips=q:chandrayaan+3,g_1:lander&amp;sa=X&amp;ved=0ahUKEwik_dK507WAAxWg3jgGHYZ2BysQ4lYIDSgC\">lander</a><a class=\"TwVfHd\" href=\"/search?biw=1440&amp;bih=775&amp;ie=UTF-8&amp;tbm=isch&amp;q=chandrayaan+3&amp;chips=q:chandrayaan+3,g_1:rover&amp;sa=X&amp;ved=0ahUKEwik_dK507WAAxWg3jgGHYZ2BysQ4lYIDigD\">rover</a><a class=\"TwVfHd\" href=\"/search?biw=1440&amp;bih=775&amp;ie=UTF-8&amp;tbm=isch&amp;q=chandrayaan+3&amp;chips=q:chandrayaan+3,g_1:information&amp;sa=X&amp;ved=0ahUKEwik_dK507WAAxWg3jgGHYZ2BysQ4lYIDygE\">information</a><a class=\"TwVfHd\" href=\"/search?biw=1440&amp;bih=775&amp;ie=UTF-8&amp;tbm=isch&amp;q=chandrayaan+3&amp;chips=q:chandrayaan+3,g_1:orbiter&amp;sa=X&amp;ved=0ahUKEwik_dK507WAAxWg3jgGHYZ2BysQ4lYIECgF\">orbiter</a><a class=\"TwVfHd\" href=\"/search?biw=1440&amp;bih=775&amp;ie=UTF-8&amp;tbm=isch&amp;q=chandrayaan+3&amp;chips=q:chandrayaan+3,g_1:india&amp;sa=X&amp;ved=0ahUKEwik_dK507WAAxWg3jgGHYZ2BysQ4lYIESgG\">india</a><a class=\"TwVfHd\" href=\"/search?biw=1440&amp;bih=775&amp;ie=UTF-8&amp;tbm=isch&amp;q=chandrayaan+3&amp;chips=q:chandrayaan+3,g_1:launch+date&amp;sa=X&amp;ved=0ahUKEwik_dK507WAAxWg3jgGHYZ2BysQ4lYIEigH\">launch date</a><a class=\"TwVfHd\" href=\"/search?biw=1440&amp;bih=775&amp;ie=UTF-8&amp;tbm=isch&amp;q=chandrayaan+3&amp;chips=q:chandrayaan+3,g_1:isro&amp;sa=X&amp;ved=0ahUKEwik_dK507WAAxWg3jgGHYZ2BysQ4lYIEygI\">isro</a><a class=\"TwVfHd\" href=\"/search?biw=1440&amp;bih=775&amp;ie=UTF-8&amp;tbm=isch&amp;q=chandrayaan+3&amp;chips=q:chandrayaan+3,g_1:mission&amp;sa=X&amp;ved=0ahUKEwik_dK507WAAxWg3jgGHYZ2BysQ4lYIFCgJ\">mission</a></div><div><table class=\"GpQGbf\"><tr><td align=\"center\" class=\"e3goi\"><div class=\"mnTahd\"> <div> <div class=\"lIMUZd\"><div><table class=\"IkMU6e\"><tr><td><a href=\"/url?q=https://www.aajtak.in/science/story/why-does-india-want-to-go-to-the-moon-for-the-third-time-know-isro-preparation-for-deep-space-mission-ssc-1744961-2023-07-27&amp;sa=U&amp;ved=2ahUKEwik_dK507WAAxWg3jgGHYZ2BysQqoUBegQIBRAB&amp;usg=AOvVaw3GFDJ3Kiw0514DlxDu4K2r\"><div class=\"NZWO1b\"><img alt=\"\" class=\"yWs4tf\" src=\"https://encrypted-tbn0.gstatic.com/images?q=tbn:ANd9GcRhUFE-KhL5MlfsNmeqrAEc19lvg9mMzAXd2R0r57mcQqvLyxI3ss_unxUCBls&amp;s\"/></div></a></td></tr><tr><td><a href=\"/url?q=https://www.aajtak.in/science/story/why-does-india-want-to-go-to-the-moon-for-the-third-time-know-isro-preparation-for-deep-space-mission-ssc-1744961-2023-07-27&amp;sa=U&amp;ved=2ahUKEwik_dK507WAAxWg3jgGHYZ2BysQr4kDegQIBRAC&amp;usg=AOvVaw2xbdKRGKDhQp8UqUUA-4m1\"><div class=\"jB2rPd\"> <span class=\"qXLe6d x3G5ab\"> <span class=\"fYyStc\">Chandrayaan-3: भारत तीसरी...</span> </span> <span class=\"qXLe6d F9iS2e\"> <span class=\"fYyStc\">www.aajtak.in</span> </span> </div></a></td></tr></table></div></div> </div> </div></td><td align=\"center\" class=\"e3goi\"><div class=\"mnTahd\"> <div> <div class=\"lIMUZd\"><div><table class=\"IkMU6e\"><tr><td><a href=\"/url?q=https://m.economictimes.com/news/science/chandrayaan-3-reaches-closer-to-moon-isro-successfully-performs-5th-orbit-raising-manoeuvre/videoshow/102113428.cms&amp;sa=U&amp;ved=2ahUKEwik_dK507WAAxWg3jgGHYZ2BysQqoUBegQIExAB&amp;usg=AOvVaw2GQH2zbGWz8qBOfIiPaidN\"><div class=\"NZWO1b\"><img alt=\"\" class=\"yWs4tf\" src=\"https://encrypted-tbn0.gstatic.com/images?q=tbn:ANd9GcS-7xL4WGyF36X3WehyizfdJ4XxadV3D_0ho5jekH71xKMjnmmxDtcKq3xung&amp;s\"/></div></a></td></tr><tr><td><a href=\"/url?q=https://m.economictimes.com/news/science/chandrayaan-3-reaches-closer-to-moon-isro-successfully-performs-5th-orbit-raising-manoeuvre/videoshow/102113428.cms&amp;sa=U&amp;ved=2ahUKEwik_dK507WAAxWg3jgGHYZ2BysQr4kDegQIExAC&amp;usg=AOvVaw2RKSnJlhALiF3vQgXMGPPT\"><div class=\"jB2rPd\"> <span class=\"qXLe6d x3G5ab\"> <span class=\"fYyStc\">Chandrayaan-3 Mission:...</span> </span> <span class=\"qXLe6d F9iS2e\"> <span class=\"fYyStc\">m.economictimes.com</span> </span> </div></a></td></tr></table></div></div> </div> </div></td><td align=\"center\" class=\"e3goi\"><div class=\"mnTahd\"> <div> <div class=\"lIMUZd\"><div><table class=\"IkMU6e\"><tr><td><a href=\"/url?q=https://www.indiatoday.in/science/story/chandrayaan-3-mission-update-whats-next-for-indias-lunar-mission-in-space-2411958-2023-07-26&amp;sa=U&amp;ved=2ahUKEwik_dK507WAAxWg3jgGHYZ2BysQqoUBegQIEhAB&amp;usg=AOvVaw2wUipUD2PJGHnfT2tKyCG7\"><div class=\"NZWO1b\"><img alt=\"\" class=\"yWs4tf\" src=\"https://encrypted-tbn0.gstatic.com/images?q=tbn:ANd9GcTvD_O8C9ZAT7N58l1ggEeSgOntEe55cSLsRdK210XkId801JTG3Ep06HxZjsM&amp;s\"/></div></a></td></tr><tr><td><a href=\"/url?q=https://www.indiatoday.in/science/story/chandrayaan-3-mission-update-whats-next-for-indias-lunar-mission-in-space-2411958-2023-07-26&amp;sa=U&amp;ved=2ahUKEwik_dK507WAAxWg3jgGHYZ2BysQr4kDegQIEhAC&amp;usg=AOvVaw03WTIz11JdzqnN1bfDLqjv\"><div class=\"jB2rPd\"> <span class=\"qXLe6d x3G5ab\"> <span class=\"fYyStc\">Chandrayaan-3 update:...</span> </span> <span class=\"qXLe6d F9iS2e\"> <span class=\"fYyStc\">www.indiatoday.in</span> </span> </div></a></td></tr></table></div></div> </div> </div></td><td align=\"center\" class=\"e3goi\"><div class=\"mnTahd\"> <div> <div class=\"lIMUZd\"><div><table class=\"IkMU6e\"><tr><td><a href=\"/url?q=https://www.youtube.com/watch%3Fv%3D89yhd4ONFbg&amp;sa=U&amp;ved=2ahUKEwik_dK507WAAxWg3jgGHYZ2BysQqoUBegQIDxAB&amp;usg=AOvVaw3TS5bPi3WYRGf_Xc-OX2ha\"><div class=\"NZWO1b\"><img alt=\"\" class=\"yWs4tf\" src=\"https://encrypted-tbn0.gstatic.com/images?q=tbn:ANd9GcTzggI4Va-HBOTd_uk0DkVyu81hnsVd0OpXl59fO-YSy1CXZmWxvVpNh0AS6g&amp;s\"/></div></a></td></tr><tr><td><a href=\"/url?q=https://www.youtube.com/watch%3Fv%3D89yhd4ONFbg&amp;sa=U&amp;ved=2ahUKEwik_dK507WAAxWg3jgGHYZ2BysQr4kDegQIDxAC&amp;usg=AOvVaw3soV-9wwwMK_knL71cEws7\"><div class=\"jB2rPd\"> <span class=\"qXLe6d x3G5ab\"> <span class=\"fYyStc\">Chandrayaan-3 Launch LIVE:...</span> </span> <span class=\"qXLe6d F9iS2e\"> <span class=\"fYyStc\">www.youtube.com</span> </span> </div></a></td></tr></table></div></div> </div> </div></td></tr><tr><td align=\"center\" class=\"e3goi\"><div class=\"mnTahd\"> <div> <div class=\"lIMUZd\"><div><table class=\"IkMU6e\"><tr><td><a href=\"/url?q=https://www.indiatoday.in/science/chandrayaan-3/story/isro-raises-orbit-of-chandrayaan-3-for-5th-time-sets-stage-for-lunar-journey-2411563-2023-07-25&amp;sa=U&amp;ved=2ahUKEwik_dK507WAAxWg3jgGHYZ2BysQqoUBegQICxAB&amp;usg=AOvVaw1NxJR0okb_WSY-YLCPAI0-\"><div class=\"NZWO1b\"><img alt=\"\" class=\"yWs4tf\" src=\"https://encrypted-tbn0.gstatic.com/images?q=tbn:ANd9GcQgIQobix-ngvcj_6jagAAICmLy_LgF_NOW6W8UPv2n_toq1odyWkPXZuO0Tw&amp;s\"/></div></a></td></tr><tr><td><a href=\"/url?q=https://www.indiatoday.in/science/chandrayaan-3/story/isro-raises-orbit-of-chandrayaan-3-for-5th-time-sets-stage-for-lunar-journey-2411563-2023-07-25&amp;sa=U&amp;ved=2ahUKEwik_dK507WAAxWg3jgGHYZ2BysQr4kDegQICxAC&amp;usg=AOvVaw2bxpbskZV3SS3q6xLTSVoj\"><div class=\"jB2rPd\"> <span class=\"qXLe6d x3G5ab\"> <span class=\"fYyStc\">Chandrayaan-3 update: Isro...</span> </span> <span class=\"qXLe6d F9iS2e\"> <span class=\"fYyStc\">www.indiatoday.in</span> </span> </div></a></td></tr></table></div></div> </div> </div></td><td align=\"center\" class=\"e3goi\"><div class=\"mnTahd\"> <div> <div class=\"lIMUZd\"><div><table class=\"IkMU6e\"><tr><td><a href=\"/url?q=https://www.aljazeera.com/news/2023/7/14/chandrayaan-3-india-launches-rocket-to-land-spacecraft-on-moon&amp;sa=U&amp;ved=2ahUKEwik_dK507WAAxWg3jgGHYZ2BysQqoUBegQIDhAB&amp;usg=AOvVaw2gVNI0NXNrd7IWHFuqrkaU\"><div class=\"NZWO1b\"><img alt=\"\" class=\"yWs4tf\" src=\"https://encrypted-tbn0.gstatic.com/images?q=tbn:ANd9GcS6Ma3G81mbTrQnHVU28J2Nx4is-d2s3E33xpfp7P8beg_M3SbI7TYRaFn0nRc&amp;s\"/></div></a></td></tr><tr><td><a href=\"/url?q=https://www.aljazeera.com/news/2023/7/14/chandrayaan-3-india-launches-rocket-to-land-spacecraft-on-moon&amp;sa=U&amp;ved=2ahUKEwik_dK507WAAxWg3jgGHYZ2BysQr4kDegQIDhAC&amp;usg=AOvVaw1nbHCTvF_VvEkdshjcCJab\"><div class=\"jB2rPd\"> <span class=\"qXLe6d x3G5ab\"> <span class=\"fYyStc\">Chandrayaan-3: India...</span> </span> <span class=\"qXLe6d F9iS2e\"> <span class=\"fYyStc\">www.aljazeera.com</span> </span> </div></a></td></tr></table></div></div> </div> </div></td><td align=\"center\" class=\"e3goi\"><div class=\"mnTahd\"> <div> <div class=\"lIMUZd\"><div><table class=\"IkMU6e\"><tr><td><a href=\"/url?q=https://www.outlookindia.com/national/chandrayaan-3-launch-isro-india-mission-to-south-pole-of-the-moon-news-302704&amp;sa=U&amp;ved=2ahUKEwik_dK507WAAxWg3jgGHYZ2BysQqoUBegQIDRAB&amp;usg=AOvVaw3zWCGZzfQ1APvPjd-MjC8F\"><div class=\"NZWO1b\"><img alt=\"\" class=\"yWs4tf\" src=\"https://encrypted-tbn0.gstatic.com/images?q=tbn:ANd9GcSjDlyc8BuQbeLlq0tmELdAfx2bjOXKN-giJZyCmjjVkYtGauRtq-vQV9n3moQ&amp;s\"/></div></a></td></tr><tr><td><a href=\"/url?q=https://www.outlookindia.com/national/chandrayaan-3-launch-isro-india-mission-to-south-pole-of-the-moon-news-302704&amp;sa=U&amp;ved=2ahUKEwik_dK507WAAxWg3jgGHYZ2BysQr4kDegQIDRAC&amp;usg=AOvVaw3O8hSxr_6gcds3neIZEj5O\"><div class=\"jB2rPd\"> <span class=\"qXLe6d x3G5ab\"> <span class=\"fYyStc\">IMAGE_1689271964.webp</span> </span> <span class=\"qXLe6d F9iS2e\"> <span class=\"fYyStc\">www.outlookindia.com</span> </span> </div></a></td></tr></table></div></div> </div> </div></td><td align=\"center\" class=\"e3goi\"><div class=\"mnTahd\"> <div> <div class=\"lIMUZd\"><div><table class=\"IkMU6e\"><tr><td><a href=\"/url?q=https://www.wionews.com/web-stories/india-news/business-economy/chandrayaan3-what-you-should-know-about-indias-moon-mission-1688377995659&amp;sa=U&amp;ved=2ahUKEwik_dK507WAAxWg3jgGHYZ2BysQqoUBegQIERAB&amp;usg=AOvVaw052ydIJH_bJk6XOmtb71cD\"><div class=\"NZWO1b\"><img alt=\"\" class=\"yWs4tf\" src=\"https://encrypted-tbn0.gstatic.com/images?q=tbn:ANd9GcQsXdaPUm5KoXBhzqifRQn45SG5mEb1Uvp8PZW1I_e4O0GkVi5b0_SSLIvhwg&amp;s\"/></div></a></td></tr><tr><td><a href=\"/url?q=https://www.wionews.com/web-stories/india-news/business-economy/chandrayaan3-what-you-should-know-about-indias-moon-mission-1688377995659&amp;sa=U&amp;ved=2ahUKEwik_dK507WAAxWg3jgGHYZ2BysQr4kDegQIERAC&amp;usg=AOvVaw0zXODOaukXxrZNn8vBqeZ3\"><div class=\"jB2rPd\"> <span class=\"qXLe6d x3G5ab\"> <span class=\"fYyStc\">Chandrayaan-3: What You...</span> </span> <span class=\"qXLe6d F9iS2e\"> <span class=\"fYyStc\">www.wionews.com</span> </span> </div></a></td></tr></table></div></div> </div> </div></td></tr><tr><td align=\"center\" class=\"e3goi\"><div class=\"mnTahd\"> <div> <div class=\"lIMUZd\"><div><table class=\"IkMU6e\"><tr><td><a href=\"/url?q=https://www.thehindu.com/sci-tech/science/isro-chandrayaan-3-mission-timeline/article67063771.ece&amp;sa=U&amp;ved=2ahUKEwik_dK507WAAxWg3jgGHYZ2BysQqoUBegQIEBAB&amp;usg=AOvVaw3Uqtf5Ka9OlXY3WEK2F1aS\"><div class=\"NZWO1b\"><img alt=\"\" class=\"yWs4tf\" src=\"https://encrypted-tbn0.gstatic.com/images?q=tbn:ANd9GcSsZrwZlorAaeBLqQINH1a-15bM9eHq_XTTdfxqWXL7h5M8PlycepLanVO6AQ&amp;s\"/></div></a></td></tr><tr><td><a href=\"/url?q=https://www.thehindu.com/sci-tech/science/isro-chandrayaan-3-mission-timeline/article67063771.ece&amp;sa=U&amp;ved=2ahUKEwik_dK507WAAxWg3jgGHYZ2BysQr4kDegQIEBAC&amp;usg=AOvVaw1xbg0WI0gZUOTF05hhGnD-\"><div class=\"jB2rPd\"> <span class=\"qXLe6d x3G5ab\"> <span class=\"fYyStc\">What to expect from ISRO's...</span> </span> <span class=\"qXLe6d F9iS2e\"> <span class=\"fYyStc\">www.thehindu.com</span> </span> </div></a></td></tr></table></div></div> </div> </div></td><td align=\"center\" class=\"e3goi\"><div class=\"mnTahd\"> <div> <div class=\"lIMUZd\"><div><table class=\"IkMU6e\"><tr><td><a href=\"/url?q=https://www.indiatoday.in/science/chandrayaan-3/story/chandrayaan-3-update-isro-to-raise-orbit-of-lunar-mission-for-5th-time-today-2411383-2023-07-25&amp;sa=U&amp;ved=2ahUKEwik_dK507WAAxWg3jgGHYZ2BysQqoUBegQIChAB&amp;usg=AOvVaw0XYCL9A-Lyt2xt0olTu13v\"><div class=\"NZWO1b\"><img alt=\"\" class=\"yWs4tf\" src=\"https://encrypted-tbn0.gstatic.com/images?q=tbn:ANd9GcTvLXegWyRhrjAsbQLQ2YQT87MH9hr52a9YsbXbBO9ybBtLG__w42pFu-lauW4&amp;s\"/></div></a></td></tr><tr><td><a href=\"/url?q=https://www.indiatoday.in/science/chandrayaan-3/story/chandrayaan-3-update-isro-to-raise-orbit-of-lunar-mission-for-5th-time-today-2411383-2023-07-25&amp;sa=U&amp;ved=2ahUKEwik_dK507WAAxWg3jgGHYZ2BysQr4kDegQIChAC&amp;usg=AOvVaw3dzmRQHytfS9x9hMf996lN\"><div class=\"jB2rPd\"> <span class=\"qXLe6d x3G5ab\"> <span class=\"fYyStc\">Chandrayaan-3 mission...</span> </span> <span class=\"qXLe6d F9iS2e\"> <span class=\"fYyStc\">www.indiatoday.in</span> </span> </div></a></td></tr></table></div></div> </div> </div></td><td align=\"center\" class=\"e3goi\"><div class=\"mnTahd\"> <div> <div class=\"lIMUZd\"><div><table class=\"IkMU6e\"><tr><td><a href=\"/url?q=https://www.newindianexpress.com/opinions/editorials/2023/jul/21/chandrayaan-3-more-than-a-moon-landing-2596844.html&amp;sa=U&amp;ved=2ahUKEwik_dK507WAAxWg3jgGHYZ2BysQqoUBegQIDBAB&amp;usg=AOvVaw3viSFLd1EcI1HXoDzJTcHp\"><div class=\"NZWO1b\"><img alt=\"\" class=\"yWs4tf\" src=\"https://encrypted-tbn0.gstatic.com/images?q=tbn:ANd9GcTPzpw22XT-y_bw5JQfn5EUeLMPl2ZXSurQkdN8pk0u3t1nTNen8C70djBrNg&amp;s\"/></div></a></td></tr><tr><td><a href=\"/url?q=https://www.newindianexpress.com/opinions/editorials/2023/jul/21/chandrayaan-3-more-than-a-moon-landing-2596844.html&amp;sa=U&amp;ved=2ahUKEwik_dK507WAAxWg3jgGHYZ2BysQr4kDegQIDBAC&amp;usg=AOvVaw0YFsxEhDI9ePwMJq9e-MbJ\"><div class=\"jB2rPd\"> <span class=\"qXLe6d x3G5ab\"> <span class=\"fYyStc\">Chandrayaan-3: More than a...</span> </span> <span class=\"qXLe6d F9iS2e\"> <span class=\"fYyStc\">www.newindianexpress.com</span> </span> </div></a></td></tr></table></div></div> </div> </div></td><td align=\"center\" class=\"e3goi\"><div class=\"mnTahd\"> <div> <div class=\"lIMUZd\"><div><table class=\"IkMU6e\"><tr><td><a href=\"/url?q=https://www.ndtv.com/india-news/chandrayaan-3-isro-explained-chandrayaan-3s-prime-objectives-after-landing-on-the-moon-4209226&amp;sa=U&amp;ved=2ahUKEwik_dK507WAAxWg3jgGHYZ2BysQqoUBegQICRAB&amp;usg=AOvVaw1Hn30BKqIoSuBPn8jRj9Ne\"><div class=\"NZWO1b\"><img alt=\"\" class=\"yWs4tf\" src=\"https://encrypted-tbn0.gstatic.com/images?q=tbn:ANd9GcTjBgHU-Rjs6ud63c5IECSiE7r6FPGN10Kf4yfzB3ZIKk6rns6E0AL-QVLIfDI&amp;s\"/></div></a></td></tr><tr><td><a href=\"/url?q=https://www.ndtv.com/india-news/chandrayaan-3-isro-explained-chandrayaan-3s-prime-objectives-after-landing-on-the-moon-4209226&amp;sa=U&amp;ved=2ahUKEwik_dK507WAAxWg3jgGHYZ2BysQr4kDegQICRAC&amp;usg=AOvVaw0ORyknB915n628QK3pYE6W\"><div class=\"jB2rPd\"> <span class=\"qXLe6d x3G5ab\"> <span class=\"fYyStc\">Chandrayaan-3, ISRO:...</span> </span> <span class=\"qXLe6d F9iS2e\"> <span class=\"fYyStc\">www.ndtv.com</span> </span> </div></a></td></tr></table></div></div> </div> </div></td></tr><tr><td align=\"center\" class=\"e3goi\"><div class=\"mnTahd\"> <div> <div class=\"lIMUZd\"><div><table class=\"IkMU6e\"><tr><td><a href=\"/url?q=https://www.bbc.com/news/world-asia-india-66185565&amp;sa=U&amp;ved=2ahUKEwik_dK507WAAxWg3jgGHYZ2BysQqoUBegQIAxAB&amp;usg=AOvVaw2aBXZ2fxeAJEcIk058g9L6\"><div class=\"NZWO1b\"><img alt=\"\" class=\"yWs4tf\" src=\"https://encrypted-tbn0.gstatic.com/images?q=tbn:ANd9GcRGSUNutALz4HX43jjFTsSVZtR_5V-20vpZOYQb8hi6CCTmptyCow7uCyCmhZg&amp;s\"/></div></a></td></tr><tr><td><a href=\"/url?q=https://www.bbc.com/news/world-asia-india-66185565&amp;sa=U&amp;ved=2ahUKEwik_dK507WAAxWg3jgGHYZ2BysQr4kDegQIAxAC&amp;usg=AOvVaw2v1TNGLqg2md4nQYQD016Y\"><div class=\"jB2rPd\"> <span class=\"qXLe6d x3G5ab\"> <span class=\"fYyStc\">Chandrayaan-3: India's...</span> </span> <span class=\"qXLe6d F9iS2e\"> <span class=\"fYyStc\">www.bbc.com</span> </span> </div></a></td></tr></table></div></div> </div> </div></td><td align=\"center\" class=\"e3goi\"><div class=\"mnTahd\"> <div> <div class=\"lIMUZd\"><div><table class=\"IkMU6e\"><tr><td><a href=\"/url?q=https://theglobalhues.com/chandrayaan-3-objectives-launch-date-and-challenges/&amp;sa=U&amp;ved=2ahUKEwik_dK507WAAxWg3jgGHYZ2BysQqoUBegQIABAB&amp;usg=AOvVaw3Qpkt3zG1EE2UwKUNIaYgZ\"><div class=\"NZWO1b\"><img alt=\"\" class=\"yWs4tf\" src=\"https://encrypted-tbn0.gstatic.com/images?q=tbn:ANd9GcRgchMGvXtGm67mfD9Lng5cCfhjDva0UeFU1e5Iuld7Ruv4SaPi528lgrqW6r8&amp;s\"/></div></a></td></tr><tr><td><a href=\"/url?q=https://theglobalhues.com/chandrayaan-3-objectives-launch-date-and-challenges/&amp;sa=U&amp;ved=2ahUKEwik_dK507WAAxWg3jgGHYZ2BysQr4kDegQIABAC&amp;usg=AOvVaw11IahNnCq9VyZdPejbl3vN\"><div class=\"jB2rPd\"> <span class=\"qXLe6d x3G5ab\"> <span class=\"fYyStc\">Chandrayaan-3: Objectives,...</span> </span> <span class=\"qXLe6d F9iS2e\"> <span class=\"fYyStc\">theglobalhues.com</span> </span> </div></a></td></tr></table></div></div> </div> </div></td><td align=\"center\" class=\"e3goi\"><div class=\"mnTahd\"> <div> <div class=\"lIMUZd\"><div><table class=\"IkMU6e\"><tr><td><a href=\"/url?q=https://www.thehindubusinessline.com/news/science/chandrayaan-3-some-questions-and-answers/article67076727.ece&amp;sa=U&amp;ved=2ahUKEwik_dK507WAAxWg3jgGHYZ2BysQqoUBegQIARAB&amp;usg=AOvVaw1W200bapz6z7tGIcpbIx8J\"><div class=\"NZWO1b\"><img alt=\"\" class=\"yWs4tf\" src=\"https://encrypted-tbn0.gstatic.com/images?q=tbn:ANd9GcSHQU_ZM4WkUhKT5_kqq696A9KJzovnuU3D2EzLoskQEZK6RJnC5tlMDMj-Vw&amp;s\"/></div></a></td></tr><tr><td><a href=\"/url?q=https://www.thehindubusinessline.com/news/science/chandrayaan-3-some-questions-and-answers/article67076727.ece&amp;sa=U&amp;ved=2ahUKEwik_dK507WAAxWg3jgGHYZ2BysQr4kDegQIARAC&amp;usg=AOvVaw01ls-_ag70xmEN8Pxgx4r4\"><div class=\"jB2rPd\"> <span class=\"qXLe6d x3G5ab\"> <span class=\"fYyStc\">Chandrayaan-3: Some...</span> </span> <span class=\"qXLe6d F9iS2e\"> <span class=\"fYyStc\">www.thehindubusinessline.co...</span> </span> </div></a></td></tr></table></div></div> </div> </div></td><td align=\"center\" class=\"e3goi\"><div class=\"mnTahd\"> <div> <div class=\"lIMUZd\"><div><table class=\"IkMU6e\"><tr><td><a href=\"/url?q=https://www.indiatoday.in/science/chandrayaan-3/story/isro-moves-chandrayaan-3-to-launchpad-on-indias-heaviest-rocket-lvm-3-2402592-2023-07-06&amp;sa=U&amp;ved=2ahUKEwik_dK507WAAxWg3jgGHYZ2BysQqoUBegQIAhAB&amp;usg=AOvVaw3HjIphrvBr4yQ1_a-MDrtp\"><div class=\"NZWO1b\"><img alt=\"\" class=\"yWs4tf\" src=\"https://encrypted-tbn0.gstatic.com/images?q=tbn:ANd9GcQPr0QTJpU3zQyVwI_gS-Cwmku6fCgeQJ__Bd5Ip0HQw5J26rqFo7Q0sAH-3FM&amp;s\"/></div></a></td></tr><tr><td><a href=\"/url?q=https://www.indiatoday.in/science/chandrayaan-3/story/isro-moves-chandrayaan-3-to-launchpad-on-indias-heaviest-rocket-lvm-3-2402592-2023-07-06&amp;sa=U&amp;ved=2ahUKEwik_dK507WAAxWg3jgGHYZ2BysQr4kDegQIAhAC&amp;usg=AOvVaw0lwMIIc8Jasu9gZAYfXkLI\"><div class=\"jB2rPd\"> <span class=\"qXLe6d x3G5ab\"> <span class=\"fYyStc\">Chandrayaan-3 begins...</span> </span> <span class=\"qXLe6d F9iS2e\"> <span class=\"fYyStc\">www.indiatoday.in</span> </span> </div></a></td></tr></table></div></div> </div> </div></td></tr><tr><td align=\"center\" class=\"e3goi\"><div class=\"mnTahd\"> <div> <div class=\"lIMUZd\"><div><table class=\"IkMU6e\"><tr><td><a href=\"/url?q=https://hi.wikipedia.org/wiki/%25E0%25A4%259A%25E0%25A4%2582%25E0%25A4%25A6%25E0%25A5%258D%25E0%25A4%25B0%25E0%25A4%25AF%25E0%25A4%25BE%25E0%25A4%25A8-3&amp;sa=U&amp;ved=2ahUKEwik_dK507WAAxWg3jgGHYZ2BysQqoUBegQIBxAB&amp;usg=AOvVaw3rfKORSTD_4NFFfpHiG45Y\"><div class=\"NZWO1b\"><img alt=\"\" class=\"yWs4tf\" src=\"https://encrypted-tbn0.gstatic.com/images?q=tbn:ANd9GcQISCHBiGrxv0G-GT7iGGTGgjsddloYssprXWbQ_uxOs2x6_GmwrBMgA3Q6c8o&amp;s\"/></div></a></td></tr><tr><td><a href=\"/url?q=https://hi.wikipedia.org/wiki/%25E0%25A4%259A%25E0%25A4%2582%25E0%25A4%25A6%25E0%25A5%258D%25E0%25A4%25B0%25E0%25A4%25AF%25E0%25A4%25BE%25E0%25A4%25A8-3&amp;sa=U&amp;ved=2ahUKEwik_dK507WAAxWg3jgGHYZ2BysQr4kDegQIBxAC&amp;usg=AOvVaw0Gdi5IubX329Q9NlodfEJY\"><div class=\"jB2rPd\"> <span class=\"qXLe6d x3G5ab\"> <span class=\"fYyStc\">चंद्रयान-3 - विकिपीडिया</span> </span> <span class=\"qXLe6d F9iS2e\"> <span class=\"fYyStc\">hi.wikipedia.org</span> </span> </div></a></td></tr></table></div></div> </div> </div></td><td align=\"center\" class=\"e3goi\"><div class=\"mnTahd\"> <div> <div class=\"lIMUZd\"><div><table class=\"IkMU6e\"><tr><td><a href=\"/url?q=https://currentaffairs.adda247.com/chandrayaan-3/&amp;sa=U&amp;ved=2ahUKEwik_dK507WAAxWg3jgGHYZ2BysQqoUBegQICBAB&amp;usg=AOvVaw12U6-ePPSE0wN10KNyKHDB\"><div class=\"NZWO1b\"><img alt=\"\" class=\"yWs4tf\" src=\"https://encrypted-tbn0.gstatic.com/images?q=tbn:ANd9GcRQQFJCHnTkFE7MULo18OetQpJLTPH_1SpZJe_BOIAfog4liaFsVpl1p20tAhE&amp;s\"/></div></a></td></tr><tr><td><a href=\"/url?q=https://currentaffairs.adda247.com/chandrayaan-3/&amp;sa=U&amp;ved=2ahUKEwik_dK507WAAxWg3jgGHYZ2BysQr4kDegQICBAC&amp;usg=AOvVaw1wpWoeUmAaFjI9cX_EQDwn\"><div class=\"jB2rPd\"> <span class=\"qXLe6d x3G5ab\"> <span class=\"fYyStc\">Chandrayaan-3 Launch Live...</span> </span> <span class=\"qXLe6d F9iS2e\"> <span class=\"fYyStc\">currentaffairs.adda247.com</span> </span> </div></a></td></tr></table></div></div> </div> </div></td><td align=\"center\" class=\"e3goi\"><div class=\"mnTahd\"> <div> <div class=\"lIMUZd\"><div><table class=\"IkMU6e\"><tr><td><a href=\"/url?q=https://www.thehindu.com/news/national/isro-third-moon-mission-chandrayaan-3-package/article67079189.ece&amp;sa=U&amp;ved=2ahUKEwik_dK507WAAxWg3jgGHYZ2BysQqoUBegQIBhAB&amp;usg=AOvVaw07PUo4ZBR42hE4Lqz_DZ93\"><div class=\"NZWO1b\"><img alt=\"\" class=\"yWs4tf\" src=\"https://encrypted-tbn0.gstatic.com/images?q=tbn:ANd9GcQbNuC2EdRiLYM3ddKITwf-OmHw7RHVIn9HL6-wyczZZSfdM0gtvKvE_HNn&amp;s\"/></div></a></td></tr><tr><td><a href=\"/url?q=https://www.thehindu.com/news/national/isro-third-moon-mission-chandrayaan-3-package/article67079189.ece&amp;sa=U&amp;ved=2ahUKEwik_dK507WAAxWg3jgGHYZ2BysQr4kDegQIBhAC&amp;usg=AOvVaw3_e67Wr1u-OWBDWlneULIa\"><div class=\"jB2rPd\"> <span class=\"qXLe6d x3G5ab\"> <span class=\"fYyStc\">Chandrayaan-3 | All you...</span> </span> <span class=\"qXLe6d F9iS2e\"> <span class=\"fYyStc\">www.thehindu.com</span> </span> </div></a></td></tr></table></div></div> </div> </div></td><td align=\"center\" class=\"e3goi\"><div class=\"mnTahd\"> <div> <div class=\"lIMUZd\"><div><table class=\"IkMU6e\"><tr><td><a href=\"/url?q=https://yourstory.com/2023/07/india-space-odyssey-chandrayaan-3-prepares-launch&amp;sa=U&amp;ved=2ahUKEwik_dK507WAAxWg3jgGHYZ2BysQqoUBegQIBBAB&amp;usg=AOvVaw2jFML1Ax71ezTXaTNsYRop\"><div class=\"NZWO1b\"><img alt=\"\" class=\"yWs4tf\" src=\"https://encrypted-tbn0.gstatic.com/images?q=tbn:ANd9GcQXt4o6pwEDE0bwmQhrdovXKOHAxbJM81jj_vIK-xWGo8hP5TyfRGZ0w8wiLg&amp;s\"/></div></a></td></tr><tr><td><a href=\"/url?q=https://yourstory.com/2023/07/india-space-odyssey-chandrayaan-3-prepares-launch&amp;sa=U&amp;ved=2ahUKEwik_dK507WAAxWg3jgGHYZ2BysQr4kDegQIBBAC&amp;usg=AOvVaw3JPCu_M35TyYhU5FwnOk_9\"><div class=\"jB2rPd\"> <span class=\"qXLe6d x3G5ab\"> <span class=\"fYyStc\">Chandrayaan-3: ISRO's New...</span> </span> <span class=\"qXLe6d F9iS2e\"> <span class=\"fYyStc\">yourstory.com</span> </span> </div></a></td></tr></table></div></div> </div> </div></td></tr></table></div><table class=\"uZgmoc\"><tbody><td><a class=\"frGj1b\" href=\"/search?q=chandrayaan+3&amp;biw=1440&amp;bih=775&amp;ie=UTF-8&amp;tbm=isch&amp;ei=z-7FZOTZGqC94-EPhu2d2AI&amp;start=20&amp;sa=N\">Next &gt;</a></td></tbody></table><br/><div class=\"TuS8Ad\" data-ved=\"0ahUKEwik_dK507WAAxWg3jgGHYZ2BysQpyoIUg\"><style>.VYM29{font-weight:bold}</style><div align=\"center\" class=\"HddGcc\"><span class=\"VYM29\">635126, Hosur, Tamil Nadu</span><span> - </span><span>From your IP address</span><span> - </span><a href=\"/url?q=https://support.google.com/websearch%3Fp%3Dws_settings_location%26hl%3Den-IN&amp;sa=U&amp;ved=0ahUKEwik_dK507WAAxWg3jgGHYZ2BysQty4IUw&amp;usg=AOvVaw1bE-NLo0loq3eN9orLg3IA\">Learn more</a></div><div align=\"center\"><a class=\"rEM8G\" href=\"/url?q=https://accounts.google.com/ServiceLogin%3Fcontinue%3Dhttps://www.google.com/search%253Fsxsrf%253DAB5stBjn-02DtoMpQvhCT2jh3iuDyVPqUA:1690690959776%2526q%253Dchandrayaan%252B3%2526tbm%253Disch%2526source%253Dlnms%2526sa%253DX%2526ved%253D2ahUKEwiu3tPQyrWAAxUzS2wGHRdyBLkQ0pQJegQIDRAB%2526biw%253D1440%2526bih%253D775%2526dpr%253D2%26hl%3Den&amp;sa=U&amp;ved=0ahUKEwik_dK507WAAxWg3jgGHYZ2BysQxs8CCFQ&amp;usg=AOvVaw04cRu5O0ydLdGE3CEWn6dL\">Sign in</a></div><div><table class=\"bookcf\"><tbody class=\"InWNIe\"><tr><td><a class=\"rEM8G\" href=\"https://www.google.com/preferences?hl=en&amp;sa=X&amp;ved=0ahUKEwik_dK507WAAxWg3jgGHYZ2BysQv5YECFU\">Settings</a></td><td><a class=\"rEM8G\" href=\"https://www.google.com/intl/en_in/policies/privacy/\">Privacy</a></td><td><a class=\"rEM8G\" href=\"https://www.google.com/intl/en_in/policies/terms/\">Terms</a></td></tr></tbody></table></div></div><div> </div></body></html>"
      ]
     },
     "execution_count": 54,
     "metadata": {},
     "output_type": "execute_result"
    }
   ],
   "source": [
    "soup"
   ]
  },
  {
   "cell_type": "code",
   "execution_count": 55,
   "id": "227ee3b6-2ff5-45c5-9c81-e32b6c380335",
   "metadata": {},
   "outputs": [],
   "source": [
    "image_tags=soup.find_all(\"img\")"
   ]
  },
  {
   "cell_type": "code",
   "execution_count": 56,
   "id": "cbe48a98",
   "metadata": {},
   "outputs": [],
   "source": [
    "del image_tags[0]"
   ]
  },
  {
   "cell_type": "code",
   "execution_count": 57,
   "id": "c40307ea-bdd1-4701-9cab-61c53b2e65fc",
   "metadata": {},
   "outputs": [
    {
     "data": {
      "text/plain": [
       "[<img alt=\"\" class=\"yWs4tf\" src=\"https://encrypted-tbn0.gstatic.com/images?q=tbn:ANd9GcRhUFE-KhL5MlfsNmeqrAEc19lvg9mMzAXd2R0r57mcQqvLyxI3ss_unxUCBls&amp;s\"/>,\n",
       " <img alt=\"\" class=\"yWs4tf\" src=\"https://encrypted-tbn0.gstatic.com/images?q=tbn:ANd9GcS-7xL4WGyF36X3WehyizfdJ4XxadV3D_0ho5jekH71xKMjnmmxDtcKq3xung&amp;s\"/>,\n",
       " <img alt=\"\" class=\"yWs4tf\" src=\"https://encrypted-tbn0.gstatic.com/images?q=tbn:ANd9GcTvD_O8C9ZAT7N58l1ggEeSgOntEe55cSLsRdK210XkId801JTG3Ep06HxZjsM&amp;s\"/>,\n",
       " <img alt=\"\" class=\"yWs4tf\" src=\"https://encrypted-tbn0.gstatic.com/images?q=tbn:ANd9GcTzggI4Va-HBOTd_uk0DkVyu81hnsVd0OpXl59fO-YSy1CXZmWxvVpNh0AS6g&amp;s\"/>,\n",
       " <img alt=\"\" class=\"yWs4tf\" src=\"https://encrypted-tbn0.gstatic.com/images?q=tbn:ANd9GcQgIQobix-ngvcj_6jagAAICmLy_LgF_NOW6W8UPv2n_toq1odyWkPXZuO0Tw&amp;s\"/>,\n",
       " <img alt=\"\" class=\"yWs4tf\" src=\"https://encrypted-tbn0.gstatic.com/images?q=tbn:ANd9GcS6Ma3G81mbTrQnHVU28J2Nx4is-d2s3E33xpfp7P8beg_M3SbI7TYRaFn0nRc&amp;s\"/>,\n",
       " <img alt=\"\" class=\"yWs4tf\" src=\"https://encrypted-tbn0.gstatic.com/images?q=tbn:ANd9GcSjDlyc8BuQbeLlq0tmELdAfx2bjOXKN-giJZyCmjjVkYtGauRtq-vQV9n3moQ&amp;s\"/>,\n",
       " <img alt=\"\" class=\"yWs4tf\" src=\"https://encrypted-tbn0.gstatic.com/images?q=tbn:ANd9GcQsXdaPUm5KoXBhzqifRQn45SG5mEb1Uvp8PZW1I_e4O0GkVi5b0_SSLIvhwg&amp;s\"/>,\n",
       " <img alt=\"\" class=\"yWs4tf\" src=\"https://encrypted-tbn0.gstatic.com/images?q=tbn:ANd9GcSsZrwZlorAaeBLqQINH1a-15bM9eHq_XTTdfxqWXL7h5M8PlycepLanVO6AQ&amp;s\"/>,\n",
       " <img alt=\"\" class=\"yWs4tf\" src=\"https://encrypted-tbn0.gstatic.com/images?q=tbn:ANd9GcTvLXegWyRhrjAsbQLQ2YQT87MH9hr52a9YsbXbBO9ybBtLG__w42pFu-lauW4&amp;s\"/>,\n",
       " <img alt=\"\" class=\"yWs4tf\" src=\"https://encrypted-tbn0.gstatic.com/images?q=tbn:ANd9GcTPzpw22XT-y_bw5JQfn5EUeLMPl2ZXSurQkdN8pk0u3t1nTNen8C70djBrNg&amp;s\"/>,\n",
       " <img alt=\"\" class=\"yWs4tf\" src=\"https://encrypted-tbn0.gstatic.com/images?q=tbn:ANd9GcTjBgHU-Rjs6ud63c5IECSiE7r6FPGN10Kf4yfzB3ZIKk6rns6E0AL-QVLIfDI&amp;s\"/>,\n",
       " <img alt=\"\" class=\"yWs4tf\" src=\"https://encrypted-tbn0.gstatic.com/images?q=tbn:ANd9GcRGSUNutALz4HX43jjFTsSVZtR_5V-20vpZOYQb8hi6CCTmptyCow7uCyCmhZg&amp;s\"/>,\n",
       " <img alt=\"\" class=\"yWs4tf\" src=\"https://encrypted-tbn0.gstatic.com/images?q=tbn:ANd9GcRgchMGvXtGm67mfD9Lng5cCfhjDva0UeFU1e5Iuld7Ruv4SaPi528lgrqW6r8&amp;s\"/>,\n",
       " <img alt=\"\" class=\"yWs4tf\" src=\"https://encrypted-tbn0.gstatic.com/images?q=tbn:ANd9GcSHQU_ZM4WkUhKT5_kqq696A9KJzovnuU3D2EzLoskQEZK6RJnC5tlMDMj-Vw&amp;s\"/>,\n",
       " <img alt=\"\" class=\"yWs4tf\" src=\"https://encrypted-tbn0.gstatic.com/images?q=tbn:ANd9GcQPr0QTJpU3zQyVwI_gS-Cwmku6fCgeQJ__Bd5Ip0HQw5J26rqFo7Q0sAH-3FM&amp;s\"/>,\n",
       " <img alt=\"\" class=\"yWs4tf\" src=\"https://encrypted-tbn0.gstatic.com/images?q=tbn:ANd9GcQISCHBiGrxv0G-GT7iGGTGgjsddloYssprXWbQ_uxOs2x6_GmwrBMgA3Q6c8o&amp;s\"/>,\n",
       " <img alt=\"\" class=\"yWs4tf\" src=\"https://encrypted-tbn0.gstatic.com/images?q=tbn:ANd9GcRQQFJCHnTkFE7MULo18OetQpJLTPH_1SpZJe_BOIAfog4liaFsVpl1p20tAhE&amp;s\"/>,\n",
       " <img alt=\"\" class=\"yWs4tf\" src=\"https://encrypted-tbn0.gstatic.com/images?q=tbn:ANd9GcQbNuC2EdRiLYM3ddKITwf-OmHw7RHVIn9HL6-wyczZZSfdM0gtvKvE_HNn&amp;s\"/>,\n",
       " <img alt=\"\" class=\"yWs4tf\" src=\"https://encrypted-tbn0.gstatic.com/images?q=tbn:ANd9GcQXt4o6pwEDE0bwmQhrdovXKOHAxbJM81jj_vIK-xWGo8hP5TyfRGZ0w8wiLg&amp;s\"/>]"
      ]
     },
     "execution_count": 57,
     "metadata": {},
     "output_type": "execute_result"
    }
   ],
   "source": [
    "image_tags"
   ]
  },
  {
   "cell_type": "code",
   "execution_count": 58,
   "id": "6ccaea3a-d473-4549-961a-8fdc5c6d7783",
   "metadata": {},
   "outputs": [
    {
     "data": {
      "text/plain": [
       "20"
      ]
     },
     "execution_count": 58,
     "metadata": {},
     "output_type": "execute_result"
    }
   ],
   "source": [
    "len(image_tags)"
   ]
  },
  {
   "cell_type": "code",
   "execution_count": 59,
   "id": "b697d7d3-6b3e-4b08-ac3d-44bd10ce52bd",
   "metadata": {},
   "outputs": [
    {
     "name": "stdout",
     "output_type": "stream",
     "text": [
      "https://encrypted-tbn0.gstatic.com/images?q=tbn:ANd9GcRhUFE-KhL5MlfsNmeqrAEc19lvg9mMzAXd2R0r57mcQqvLyxI3ss_unxUCBls&s\n",
      "https://encrypted-tbn0.gstatic.com/images?q=tbn:ANd9GcS-7xL4WGyF36X3WehyizfdJ4XxadV3D_0ho5jekH71xKMjnmmxDtcKq3xung&s\n",
      "https://encrypted-tbn0.gstatic.com/images?q=tbn:ANd9GcTvD_O8C9ZAT7N58l1ggEeSgOntEe55cSLsRdK210XkId801JTG3Ep06HxZjsM&s\n",
      "https://encrypted-tbn0.gstatic.com/images?q=tbn:ANd9GcTzggI4Va-HBOTd_uk0DkVyu81hnsVd0OpXl59fO-YSy1CXZmWxvVpNh0AS6g&s\n",
      "https://encrypted-tbn0.gstatic.com/images?q=tbn:ANd9GcQgIQobix-ngvcj_6jagAAICmLy_LgF_NOW6W8UPv2n_toq1odyWkPXZuO0Tw&s\n",
      "https://encrypted-tbn0.gstatic.com/images?q=tbn:ANd9GcS6Ma3G81mbTrQnHVU28J2Nx4is-d2s3E33xpfp7P8beg_M3SbI7TYRaFn0nRc&s\n",
      "https://encrypted-tbn0.gstatic.com/images?q=tbn:ANd9GcSjDlyc8BuQbeLlq0tmELdAfx2bjOXKN-giJZyCmjjVkYtGauRtq-vQV9n3moQ&s\n",
      "https://encrypted-tbn0.gstatic.com/images?q=tbn:ANd9GcQsXdaPUm5KoXBhzqifRQn45SG5mEb1Uvp8PZW1I_e4O0GkVi5b0_SSLIvhwg&s\n",
      "https://encrypted-tbn0.gstatic.com/images?q=tbn:ANd9GcSsZrwZlorAaeBLqQINH1a-15bM9eHq_XTTdfxqWXL7h5M8PlycepLanVO6AQ&s\n",
      "https://encrypted-tbn0.gstatic.com/images?q=tbn:ANd9GcTvLXegWyRhrjAsbQLQ2YQT87MH9hr52a9YsbXbBO9ybBtLG__w42pFu-lauW4&s\n",
      "https://encrypted-tbn0.gstatic.com/images?q=tbn:ANd9GcTPzpw22XT-y_bw5JQfn5EUeLMPl2ZXSurQkdN8pk0u3t1nTNen8C70djBrNg&s\n",
      "https://encrypted-tbn0.gstatic.com/images?q=tbn:ANd9GcTjBgHU-Rjs6ud63c5IECSiE7r6FPGN10Kf4yfzB3ZIKk6rns6E0AL-QVLIfDI&s\n",
      "https://encrypted-tbn0.gstatic.com/images?q=tbn:ANd9GcRGSUNutALz4HX43jjFTsSVZtR_5V-20vpZOYQb8hi6CCTmptyCow7uCyCmhZg&s\n",
      "https://encrypted-tbn0.gstatic.com/images?q=tbn:ANd9GcRgchMGvXtGm67mfD9Lng5cCfhjDva0UeFU1e5Iuld7Ruv4SaPi528lgrqW6r8&s\n",
      "https://encrypted-tbn0.gstatic.com/images?q=tbn:ANd9GcSHQU_ZM4WkUhKT5_kqq696A9KJzovnuU3D2EzLoskQEZK6RJnC5tlMDMj-Vw&s\n",
      "https://encrypted-tbn0.gstatic.com/images?q=tbn:ANd9GcQPr0QTJpU3zQyVwI_gS-Cwmku6fCgeQJ__Bd5Ip0HQw5J26rqFo7Q0sAH-3FM&s\n",
      "https://encrypted-tbn0.gstatic.com/images?q=tbn:ANd9GcQISCHBiGrxv0G-GT7iGGTGgjsddloYssprXWbQ_uxOs2x6_GmwrBMgA3Q6c8o&s\n",
      "https://encrypted-tbn0.gstatic.com/images?q=tbn:ANd9GcRQQFJCHnTkFE7MULo18OetQpJLTPH_1SpZJe_BOIAfog4liaFsVpl1p20tAhE&s\n",
      "https://encrypted-tbn0.gstatic.com/images?q=tbn:ANd9GcQbNuC2EdRiLYM3ddKITwf-OmHw7RHVIn9HL6-wyczZZSfdM0gtvKvE_HNn&s\n",
      "https://encrypted-tbn0.gstatic.com/images?q=tbn:ANd9GcQXt4o6pwEDE0bwmQhrdovXKOHAxbJM81jj_vIK-xWGo8hP5TyfRGZ0w8wiLg&s\n"
     ]
    }
   ],
   "source": [
    "for i in image_tags:\n",
    "    print(i[\"src\"])"
   ]
  },
  {
   "cell_type": "code",
   "execution_count": 60,
   "id": "de07dc70-1aff-4b48-8794-32ddc2a81467",
   "metadata": {},
   "outputs": [],
   "source": [
    "response=requests.get(f\"https://www.google.com/search?sxsrf=AB5stBjn-02DtoMpQvhCT2jh3iuDyVPqUA:1690690959776&q=chandrayaan+3&tbm=isch&source=lnms&sa=X&ved=2ahUKEwiu3tPQyrWAAxUzS2wGHRdyBLkQ0pQJegQIDRAB&biw=1440&bih=775&dpr=2\")"
   ]
  },
  {
   "cell_type": "code",
   "execution_count": 61,
   "id": "8fde145c-2bdc-4027-aeca-3b706f99dd2d",
   "metadata": {},
   "outputs": [],
   "source": [
    "\n",
    "for i in image_tags:\n",
    "    image_url=i[\"src\"]\n",
    "    image_data=requests.get(image_url).content\n",
    "    with open(os.path.join(save_dir,f\"{query}_{image_tags.index(i)}.jpg\"),\"wb\") as f:\n",
    "        f.write(image_data)"
   ]
  },
  {
   "cell_type": "code",
   "execution_count": null,
   "id": "3abcd9f1-0b83-45f0-826b-04a012527e3e",
   "metadata": {},
   "outputs": [],
   "source": []
  },
  {
   "cell_type": "code",
   "execution_count": null,
   "id": "2413df12-85c4-4715-9cf1-cd44b6f9768d",
   "metadata": {},
   "outputs": [],
   "source": []
  },
  {
   "cell_type": "code",
   "execution_count": null,
   "id": "24fec0a5-8bcd-4c6e-beb6-5684ad4cbd04",
   "metadata": {},
   "outputs": [],
   "source": []
  },
  {
   "cell_type": "code",
   "execution_count": null,
   "id": "01c1724d-72c1-404d-b8f4-670517de4201",
   "metadata": {},
   "outputs": [],
   "source": []
  }
 ],
 "metadata": {
  "kernelspec": {
   "display_name": "Python 3 (ipykernel)",
   "language": "python",
   "name": "python3"
  },
  "language_info": {
   "codemirror_mode": {
    "name": "ipython",
    "version": 3
   },
   "file_extension": ".py",
   "mimetype": "text/x-python",
   "name": "python",
   "nbconvert_exporter": "python",
   "pygments_lexer": "ipython3",
   "version": "3.8.17"
  }
 },
 "nbformat": 4,
 "nbformat_minor": 5
}
